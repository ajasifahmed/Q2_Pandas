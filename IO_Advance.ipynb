{
 "cells": [
  {
   "cell_type": "code",
   "execution_count": 40,
   "metadata": {},
   "outputs": [],
   "source": [
    "import numpy as np\n",
    "import pandas as pd\n",
    "import json\n",
    "import csv"
   ]
  },
  {
   "cell_type": "code",
   "execution_count": 11,
   "metadata": {},
   "outputs": [
    {
     "name": "stdout",
     "output_type": "stream",
     "text": [
      "   1997-01-12  0\n",
      "0  1997-01-13  1\n",
      "1  1997-01-14  2\n",
      "2  1997-01-15  3\n",
      "3  1997-01-16  4\n",
      "4  1997-01-17  5\n",
      "5  1997-01-18  6\n"
     ]
    },
    {
     "name": "stderr",
     "output_type": "stream",
     "text": [
      "C:\\Users\\ASIF_PC\\Anaconda3\\lib\\site-packages\\ipykernel_launcher.py:3: FutureWarning: The signature of `Series.to_csv` was aligned to that of `DataFrame.to_csv`, and argument 'header' will change its default value from False to True: please pass an explicit value to suppress this warning.\n",
      "  This is separate from the ipykernel package so we can avoid doing imports until\n"
     ]
    }
   ],
   "source": [
    "dates=pd.date_range('1-12-1997',periods=7)\n",
    "ts=pd.Series(np.arange(7),index=dates)\n",
    "ts.to_csv('dates.csv')\n",
    "print(pd.read_csv('dates.csv'))"
   ]
  },
  {
   "cell_type": "code",
   "execution_count": 17,
   "metadata": {},
   "outputs": [],
   "source": [
    "obj = \"\"\"{\"name\": \"Wes\", \"places_lived\": [\"United States\", \"Spain\", \"Germany\"], \"pet\": null, \"siblings\": [{\"name\": \"Scott\", \"age\": 30, \"pets\": [\"Zeus\", \"Zuko\"]}, {\"name\": \"Katie\", \"age\": 38,\"pets\": [\"Sixes\", \"Stache\", \"Cisco\"]}]}\"\"\"\n",
    "with open('jdata.json','w') as f:\n",
    "    json.dump(obj,f)"
   ]
  },
  {
   "cell_type": "code",
   "execution_count": 23,
   "metadata": {},
   "outputs": [
    {
     "name": "stdout",
     "output_type": "stream",
     "text": [
      "{\"name\": \"Wes\", \"places_lived\": [\"United States\", \"Spain\", \"Germany\"], \"pet\": null, \"siblings\": [{\"name\": \"Scott\", \"age\": 30, \"pets\": [\"Zeus\", \"Zuko\"]}, {\"name\": \"Katie\", \"age\": 38,\"pets\": [\"Sixes\", \"Stache\", \"Cisco\"]}]}\n"
     ]
    }
   ],
   "source": [
    "with open('jdata.json','r')as r:\n",
    "     data = json.load(r)\n",
    "print(data)"
   ]
  },
  {
   "cell_type": "code",
   "execution_count": 5,
   "metadata": {},
   "outputs": [],
   "source": [
    "import pandas as pd\n",
    "from pandas import ExcelWriter\n",
    "from pandas import ExcelFile\n",
    "#pd.read_clipboard()\n",
    "#pd.read_excel('train')"
   ]
  },
  {
   "cell_type": "markdown",
   "metadata": {},
   "source": [
    "# XML and HTML: Web Scraping "
   ]
  },
  {
   "cell_type": "code",
   "execution_count": 6,
   "metadata": {},
   "outputs": [],
   "source": [
    "import lxml\n",
    "tables = pd.read_html('file:///C:/Users/ASIF_PC/Desktop/Python/2nd%20Quater/Practice_Q2/fdic_failed_bank_list.html')\n",
    "f=tables[0]\n"
   ]
  },
  {
   "cell_type": "code",
   "execution_count": 7,
   "metadata": {},
   "outputs": [
    {
     "name": "stdout",
     "output_type": "stream",
     "text": [
      "Index(['Bank Name', 'City', 'ST', 'CERT', 'Acquiring Institution',\n",
      "       'Closing Date', 'Updated Date'],\n",
      "      dtype='object')\n"
     ]
    },
    {
     "data": {
      "text/plain": [
       "0    September 23, 2016\n",
       "1       August 19, 2016\n",
       "2           May 6, 2016\n",
       "3        April 29, 2016\n",
       "4        March 11, 2016\n",
       "Name: Closing Date, dtype: object"
      ]
     },
     "execution_count": 7,
     "metadata": {},
     "output_type": "execute_result"
    }
   ],
   "source": [
    "print(f.columns)\n",
    "f['Closing Date'].head()"
   ]
  },
  {
   "cell_type": "code",
   "execution_count": 8,
   "metadata": {},
   "outputs": [
    {
     "data": {
      "text/plain": [
       "0   2016-09-23\n",
       "1   2016-08-19\n",
       "2   2016-05-06\n",
       "3   2016-04-29\n",
       "4   2016-03-11\n",
       "Name: Closing Date, dtype: datetime64[ns]"
      ]
     },
     "execution_count": 8,
     "metadata": {},
     "output_type": "execute_result"
    }
   ],
   "source": [
    "pd.to_datetime(f['Closing Date'].head())"
   ]
  },
  {
   "cell_type": "code",
   "execution_count": 9,
   "metadata": {},
   "outputs": [
    {
     "data": {
      "text/plain": [
       "2009-10-30    9\n",
       "2010-08-20    8\n",
       "2010-04-16    8\n",
       "2009-07-24    7\n",
       "2009-10-23    7\n",
       "Name: Closing Date, dtype: int64"
      ]
     },
     "execution_count": 9,
     "metadata": {},
     "output_type": "execute_result"
    }
   ],
   "source": [
    "close_timestamps = pd.to_datetime(f['Closing Date'])\n",
    "\n",
    "close_timestamps.dt.date.value_counts().head()"
   ]
  },
  {
   "cell_type": "code",
   "execution_count": 22,
   "metadata": {},
   "outputs": [
    {
     "name": "stdout",
     "output_type": "stream",
     "text": [
      "(157, 74)\n",
      "(140, 58)\n",
      "(92, 58)\n",
      "(51, 49)\n",
      "(25, 44)\n",
      "(24, 41)\n",
      "(18, 41)\n",
      "(11, 39)\n",
      "(8, 38)\n",
      "(5, 36)\n",
      "(4, 35)\n",
      "(4, 34)\n"
     ]
    }
   ],
   "source": [
    "l=[]\n",
    "#close_timestamps.dt.month.value_counts().head()\n",
    "#close_timestamps.dt.dayofweek.value_counts()\n",
    "l.append(close_timestamps.dt.month.value_counts())\n",
    "l.append(close_timestamps.dt.year.value_counts())\n",
    "s=zip(close_timestamps.dt.year.value_counts(),close_timestamps.dt.month.value_counts())\n",
    "for i in s:\n",
    "    print(i)"
   ]
  },
  {
   "cell_type": "code",
   "execution_count": 30,
   "metadata": {},
   "outputs": [
    {
     "data": {
      "text/plain": [
       "Friday       522\n",
       "Thursday      19\n",
       "Wednesday      2\n",
       "Tuesday        2\n",
       "Saturday       1\n",
       "Monday         1\n",
       "Name: Closing Date, dtype: int64"
      ]
     },
     "execution_count": 30,
     "metadata": {},
     "output_type": "execute_result"
    }
   ],
   "source": [
    "close_timestamps.dt.day_name().value_counts()"
   ]
  },
  {
   "cell_type": "code",
   "execution_count": 38,
   "metadata": {},
   "outputs": [
    {
     "data": {
      "text/plain": [
       "False    460\n",
       "True      87\n",
       "Name: Closing Date, dtype: int64"
      ]
     },
     "execution_count": 38,
     "metadata": {},
     "output_type": "execute_result"
    }
   ],
   "source": [
    "close_timestamps.dt.is_leap_year.value_counts()"
   ]
  },
  {
   "cell_type": "markdown",
   "metadata": {},
   "source": [
    "# PICKLE"
   ]
  },
  {
   "cell_type": "code",
   "execution_count": 6,
   "metadata": {},
   "outputs": [
    {
     "data": {
      "text/html": [
       "<div>\n",
       "<style scoped>\n",
       "    .dataframe tbody tr th:only-of-type {\n",
       "        vertical-align: middle;\n",
       "    }\n",
       "\n",
       "    .dataframe tbody tr th {\n",
       "        vertical-align: top;\n",
       "    }\n",
       "\n",
       "    .dataframe thead th {\n",
       "        text-align: right;\n",
       "    }\n",
       "</style>\n",
       "<table border=\"1\" class=\"dataframe\">\n",
       "  <thead>\n",
       "    <tr style=\"text-align: right;\">\n",
       "      <th></th>\n",
       "      <th>one</th>\n",
       "      <th>two</th>\n",
       "      <th>three</th>\n",
       "    </tr>\n",
       "  </thead>\n",
       "  <tbody>\n",
       "    <tr>\n",
       "      <th>0</th>\n",
       "      <td>1</td>\n",
       "      <td>2</td>\n",
       "      <td>3</td>\n",
       "    </tr>\n",
       "    <tr>\n",
       "      <th>1</th>\n",
       "      <td>4</td>\n",
       "      <td>5</td>\n",
       "      <td>6</td>\n",
       "    </tr>\n",
       "    <tr>\n",
       "      <th>2</th>\n",
       "      <td>7</td>\n",
       "      <td>8</td>\n",
       "      <td>9</td>\n",
       "    </tr>\n",
       "  </tbody>\n",
       "</table>\n",
       "</div>"
      ],
      "text/plain": [
       "   one  two  three\n",
       "0    1    2      3\n",
       "1    4    5      6\n",
       "2    7    8      9"
      ]
     },
     "execution_count": 6,
     "metadata": {},
     "output_type": "execute_result"
    }
   ],
   "source": [
    "bn=pd.read_csv('mydata.csv')\n",
    "bn.to_pickle('mydata.csv')\n",
    "pd.read_pickle('mydata.csv')"
   ]
  },
  {
   "cell_type": "code",
   "execution_count": 20,
   "metadata": {},
   "outputs": [
    {
     "data": {
      "text/plain": [
       "'ppp'"
      ]
     },
     "execution_count": 20,
     "metadata": {},
     "output_type": "execute_result"
    }
   ],
   "source": [
    "from lxml import objectify\n",
    "from io import StringIO \n",
    "tag = '<a href=\"http://www.google.com\">Google</a>'\n",
    "root = objectify.parse(StringIO(tag)).getroot()\n",
    "#root.text\n",
    "#root.get('href')"
   ]
  },
  {
   "cell_type": "markdown",
   "metadata": {},
   "source": [
    "# HDF5"
   ]
  },
  {
   "cell_type": "code",
   "execution_count": 9,
   "metadata": {},
   "outputs": [
    {
     "data": {
      "text/html": [
       "<div>\n",
       "<style scoped>\n",
       "    .dataframe tbody tr th:only-of-type {\n",
       "        vertical-align: middle;\n",
       "    }\n",
       "\n",
       "    .dataframe tbody tr th {\n",
       "        vertical-align: top;\n",
       "    }\n",
       "\n",
       "    .dataframe thead th {\n",
       "        text-align: right;\n",
       "    }\n",
       "</style>\n",
       "<table border=\"1\" class=\"dataframe\">\n",
       "  <thead>\n",
       "    <tr style=\"text-align: right;\">\n",
       "      <th></th>\n",
       "      <th>a</th>\n",
       "      <th>b</th>\n",
       "    </tr>\n",
       "  </thead>\n",
       "  <tbody>\n",
       "    <tr>\n",
       "      <th>0</th>\n",
       "      <td>0</td>\n",
       "      <td>0</td>\n",
       "    </tr>\n",
       "    <tr>\n",
       "      <th>1</th>\n",
       "      <td>1</td>\n",
       "      <td>1</td>\n",
       "    </tr>\n",
       "    <tr>\n",
       "      <th>2</th>\n",
       "      <td>2</td>\n",
       "      <td>2</td>\n",
       "    </tr>\n",
       "    <tr>\n",
       "      <th>3</th>\n",
       "      <td>3</td>\n",
       "      <td>3</td>\n",
       "    </tr>\n",
       "    <tr>\n",
       "      <th>4</th>\n",
       "      <td>4</td>\n",
       "      <td>4</td>\n",
       "    </tr>\n",
       "    <tr>\n",
       "      <th>5</th>\n",
       "      <td>5</td>\n",
       "      <td>5</td>\n",
       "    </tr>\n",
       "  </tbody>\n",
       "</table>\n",
       "</div>"
      ],
      "text/plain": [
       "   a  b\n",
       "0  0  0\n",
       "1  1  1\n",
       "2  2  2\n",
       "3  3  3\n",
       "4  4  4\n",
       "5  5  5"
      ]
     },
     "execution_count": 9,
     "metadata": {},
     "output_type": "execute_result"
    }
   ],
   "source": [
    "import  numpy as np\n",
    "fm=pd.DataFrame({'a':np.arange(6),'b':np.arange(6)})\n",
    "\n",
    "hdf=pd.HDFStore('hdata.h5')\n",
    "\n",
    "hdf['A_co']=fm['b']\n",
    "hdf['B_co']=fm['a']\n",
    "fm"
   ]
  },
  {
   "cell_type": "code",
   "execution_count": 10,
   "metadata": {},
   "outputs": [
    {
     "data": {
      "text/plain": [
       "0    0\n",
       "1    1\n",
       "2    2\n",
       "3    3\n",
       "4    4\n",
       "5    5\n",
       "Name: a, dtype: int32"
      ]
     },
     "execution_count": 10,
     "metadata": {},
     "output_type": "execute_result"
    }
   ],
   "source": [
    "hdf['B_co']"
   ]
  },
  {
   "cell_type": "code",
   "execution_count": 43,
   "metadata": {},
   "outputs": [
    {
     "data": {
      "text/html": [
       "<div>\n",
       "<style scoped>\n",
       "    .dataframe tbody tr th:only-of-type {\n",
       "        vertical-align: middle;\n",
       "    }\n",
       "\n",
       "    .dataframe tbody tr th {\n",
       "        vertical-align: top;\n",
       "    }\n",
       "\n",
       "    .dataframe thead th {\n",
       "        text-align: right;\n",
       "    }\n",
       "</style>\n",
       "<table border=\"1\" class=\"dataframe\">\n",
       "  <thead>\n",
       "    <tr style=\"text-align: right;\">\n",
       "      <th></th>\n",
       "      <th>a</th>\n",
       "      <th>b</th>\n",
       "    </tr>\n",
       "  </thead>\n",
       "  <tbody>\n",
       "    <tr>\n",
       "      <th>0</th>\n",
       "      <td>0</td>\n",
       "      <td>0</td>\n",
       "    </tr>\n",
       "    <tr>\n",
       "      <th>1</th>\n",
       "      <td>1</td>\n",
       "      <td>1</td>\n",
       "    </tr>\n",
       "    <tr>\n",
       "      <th>2</th>\n",
       "      <td>2</td>\n",
       "      <td>2</td>\n",
       "    </tr>\n",
       "    <tr>\n",
       "      <th>3</th>\n",
       "      <td>3</td>\n",
       "      <td>3</td>\n",
       "    </tr>\n",
       "  </tbody>\n",
       "</table>\n",
       "</div>"
      ],
      "text/plain": [
       "   a  b\n",
       "0  0  0\n",
       "1  1  1\n",
       "2  2  2\n",
       "3  3  3"
      ]
     },
     "execution_count": 43,
     "metadata": {},
     "output_type": "execute_result"
    }
   ],
   "source": [
    "hdf.put('COLUMN',fm,format='table')\n",
    "hdf.select('COLUMN',where=['index<=3'])"
   ]
  },
  {
   "cell_type": "code",
   "execution_count": 51,
   "metadata": {},
   "outputs": [
    {
     "data": {
      "text/html": [
       "<div>\n",
       "<style scoped>\n",
       "    .dataframe tbody tr th:only-of-type {\n",
       "        vertical-align: middle;\n",
       "    }\n",
       "\n",
       "    .dataframe tbody tr th {\n",
       "        vertical-align: top;\n",
       "    }\n",
       "\n",
       "    .dataframe thead th {\n",
       "        text-align: right;\n",
       "    }\n",
       "</style>\n",
       "<table border=\"1\" class=\"dataframe\">\n",
       "  <thead>\n",
       "    <tr style=\"text-align: right;\">\n",
       "      <th></th>\n",
       "      <th>a</th>\n",
       "      <th>b</th>\n",
       "    </tr>\n",
       "  </thead>\n",
       "  <tbody>\n",
       "    <tr>\n",
       "      <th>3</th>\n",
       "      <td>3</td>\n",
       "      <td>3</td>\n",
       "    </tr>\n",
       "    <tr>\n",
       "      <th>4</th>\n",
       "      <td>4</td>\n",
       "      <td>4</td>\n",
       "    </tr>\n",
       "    <tr>\n",
       "      <th>5</th>\n",
       "      <td>5</td>\n",
       "      <td>5</td>\n",
       "    </tr>\n",
       "  </tbody>\n",
       "</table>\n",
       "</div>"
      ],
      "text/plain": [
       "   a  b\n",
       "3  3  3\n",
       "4  4  4\n",
       "5  5  5"
      ]
     },
     "execution_count": 51,
     "metadata": {},
     "output_type": "execute_result"
    }
   ],
   "source": [
    "fm.to_hdf('hdf2','C_1',format='table')\n",
    "pd.read_hdf('hdf2',where=['index>2'])"
   ]
  },
  {
   "cell_type": "markdown",
   "metadata": {},
   "source": [
    "# EXCEL"
   ]
  },
  {
   "cell_type": "code",
   "execution_count": 75,
   "metadata": {},
   "outputs": [
    {
     "data": {
      "text/html": [
       "<div>\n",
       "<style scoped>\n",
       "    .dataframe tbody tr th:only-of-type {\n",
       "        vertical-align: middle;\n",
       "    }\n",
       "\n",
       "    .dataframe tbody tr th {\n",
       "        vertical-align: top;\n",
       "    }\n",
       "\n",
       "    .dataframe thead th {\n",
       "        text-align: right;\n",
       "    }\n",
       "</style>\n",
       "<table border=\"1\" class=\"dataframe\">\n",
       "  <thead>\n",
       "    <tr style=\"text-align: right;\">\n",
       "      <th></th>\n",
       "      <th>SNO</th>\n",
       "      <th>XL</th>\n",
       "      <th>XU</th>\n",
       "      <th>F(XL)</th>\n",
       "      <th>F(XU)</th>\n",
       "      <th>XM</th>\n",
       "      <th>F(XM)</th>\n",
       "      <th>F(XL).F(XM)</th>\n",
       "      <th>EG</th>\n",
       "    </tr>\n",
       "  </thead>\n",
       "  <tbody>\n",
       "    <tr>\n",
       "      <th>0</th>\n",
       "      <td>1</td>\n",
       "      <td>1.000000</td>\n",
       "      <td>2.000000</td>\n",
       "      <td>-1.000000</td>\n",
       "      <td>2.000000</td>\n",
       "      <td>1.500000</td>\n",
       "      <td>0.250000</td>\n",
       "      <td>-0.250000</td>\n",
       "      <td>0</td>\n",
       "    </tr>\n",
       "    <tr>\n",
       "      <th>1</th>\n",
       "      <td>2</td>\n",
       "      <td>1.000000</td>\n",
       "      <td>1.500000</td>\n",
       "      <td>-1.000000</td>\n",
       "      <td>0.250000</td>\n",
       "      <td>1.250000</td>\n",
       "      <td>-0.437500</td>\n",
       "      <td>0.437500</td>\n",
       "      <td>1</td>\n",
       "    </tr>\n",
       "    <tr>\n",
       "      <th>2</th>\n",
       "      <td>3</td>\n",
       "      <td>1.250000</td>\n",
       "      <td>1.500000</td>\n",
       "      <td>-0.437500</td>\n",
       "      <td>0.250000</td>\n",
       "      <td>1.375000</td>\n",
       "      <td>-0.109375</td>\n",
       "      <td>0.047852</td>\n",
       "      <td>2</td>\n",
       "    </tr>\n",
       "    <tr>\n",
       "      <th>3</th>\n",
       "      <td>4</td>\n",
       "      <td>1.375000</td>\n",
       "      <td>1.500000</td>\n",
       "      <td>-0.109375</td>\n",
       "      <td>0.250000</td>\n",
       "      <td>1.437500</td>\n",
       "      <td>0.066406</td>\n",
       "      <td>-0.007263</td>\n",
       "      <td>3</td>\n",
       "    </tr>\n",
       "    <tr>\n",
       "      <th>4</th>\n",
       "      <td>5</td>\n",
       "      <td>1.375000</td>\n",
       "      <td>1.437500</td>\n",
       "      <td>-0.109375</td>\n",
       "      <td>0.066406</td>\n",
       "      <td>1.406250</td>\n",
       "      <td>-0.022461</td>\n",
       "      <td>0.002457</td>\n",
       "      <td>4</td>\n",
       "    </tr>\n",
       "    <tr>\n",
       "      <th>5</th>\n",
       "      <td>6</td>\n",
       "      <td>1.406250</td>\n",
       "      <td>1.437500</td>\n",
       "      <td>-0.022461</td>\n",
       "      <td>0.066406</td>\n",
       "      <td>1.421875</td>\n",
       "      <td>0.021729</td>\n",
       "      <td>-0.000488</td>\n",
       "      <td>5</td>\n",
       "    </tr>\n",
       "    <tr>\n",
       "      <th>6</th>\n",
       "      <td>7</td>\n",
       "      <td>1.406250</td>\n",
       "      <td>1.421875</td>\n",
       "      <td>-0.022461</td>\n",
       "      <td>0.021729</td>\n",
       "      <td>1.414062</td>\n",
       "      <td>-0.000427</td>\n",
       "      <td>0.000010</td>\n",
       "      <td>6</td>\n",
       "    </tr>\n",
       "    <tr>\n",
       "      <th>7</th>\n",
       "      <td>8</td>\n",
       "      <td>1.414062</td>\n",
       "      <td>1.421875</td>\n",
       "      <td>-0.000427</td>\n",
       "      <td>0.021729</td>\n",
       "      <td>1.417969</td>\n",
       "      <td>0.010635</td>\n",
       "      <td>-0.000005</td>\n",
       "      <td>7</td>\n",
       "    </tr>\n",
       "    <tr>\n",
       "      <th>8</th>\n",
       "      <td>9</td>\n",
       "      <td>1.414062</td>\n",
       "      <td>1.417969</td>\n",
       "      <td>-0.000427</td>\n",
       "      <td>0.010635</td>\n",
       "      <td>1.416016</td>\n",
       "      <td>0.005100</td>\n",
       "      <td>-0.000002</td>\n",
       "      <td>8</td>\n",
       "    </tr>\n",
       "  </tbody>\n",
       "</table>\n",
       "</div>"
      ],
      "text/plain": [
       "   SNO        XL        XU     F(XL)     F(XU)        XM     F(XM)  \\\n",
       "0    1  1.000000  2.000000 -1.000000  2.000000  1.500000  0.250000   \n",
       "1    2  1.000000  1.500000 -1.000000  0.250000  1.250000 -0.437500   \n",
       "2    3  1.250000  1.500000 -0.437500  0.250000  1.375000 -0.109375   \n",
       "3    4  1.375000  1.500000 -0.109375  0.250000  1.437500  0.066406   \n",
       "4    5  1.375000  1.437500 -0.109375  0.066406  1.406250 -0.022461   \n",
       "5    6  1.406250  1.437500 -0.022461  0.066406  1.421875  0.021729   \n",
       "6    7  1.406250  1.421875 -0.022461  0.021729  1.414062 -0.000427   \n",
       "7    8  1.414062  1.421875 -0.000427  0.021729  1.417969  0.010635   \n",
       "8    9  1.414062  1.417969 -0.000427  0.010635  1.416016  0.005100   \n",
       "\n",
       "   F(XL).F(XM)  EG  \n",
       "0    -0.250000   0  \n",
       "1     0.437500   1  \n",
       "2     0.047852   2  \n",
       "3    -0.007263   3  \n",
       "4     0.002457   4  \n",
       "5    -0.000488   5  \n",
       "6     0.000010   6  \n",
       "7    -0.000005   7  \n",
       "8    -0.000002   8  "
      ]
     },
     "execution_count": 75,
     "metadata": {},
     "output_type": "execute_result"
    }
   ],
   "source": [
    "#r=pd.ExcelFile('file.xls')\n",
    "r=pd.read_excel('file.xls')\n",
    "r['EG']=np.arange(9)\n",
    "r"
   ]
  },
  {
   "cell_type": "code",
   "execution_count": 77,
   "metadata": {},
   "outputs": [
    {
     "data": {
      "text/html": [
       "<div>\n",
       "<style scoped>\n",
       "    .dataframe tbody tr th:only-of-type {\n",
       "        vertical-align: middle;\n",
       "    }\n",
       "\n",
       "    .dataframe tbody tr th {\n",
       "        vertical-align: top;\n",
       "    }\n",
       "\n",
       "    .dataframe thead th {\n",
       "        text-align: right;\n",
       "    }\n",
       "</style>\n",
       "<table border=\"1\" class=\"dataframe\">\n",
       "  <thead>\n",
       "    <tr style=\"text-align: right;\">\n",
       "      <th></th>\n",
       "      <th>SNO</th>\n",
       "      <th>XL</th>\n",
       "      <th>XU</th>\n",
       "      <th>F(XL)</th>\n",
       "      <th>F(XU)</th>\n",
       "      <th>XM</th>\n",
       "      <th>F(XM)</th>\n",
       "      <th>F(XL).F(XM)</th>\n",
       "      <th>EG</th>\n",
       "    </tr>\n",
       "  </thead>\n",
       "  <tbody>\n",
       "    <tr>\n",
       "      <th>0</th>\n",
       "      <td>1</td>\n",
       "      <td>1.000000</td>\n",
       "      <td>2.000000</td>\n",
       "      <td>-1.000000</td>\n",
       "      <td>2.000000</td>\n",
       "      <td>1.500000</td>\n",
       "      <td>0.250000</td>\n",
       "      <td>-0.250000</td>\n",
       "      <td>0</td>\n",
       "    </tr>\n",
       "    <tr>\n",
       "      <th>1</th>\n",
       "      <td>2</td>\n",
       "      <td>1.000000</td>\n",
       "      <td>1.500000</td>\n",
       "      <td>-1.000000</td>\n",
       "      <td>0.250000</td>\n",
       "      <td>1.250000</td>\n",
       "      <td>-0.437500</td>\n",
       "      <td>0.437500</td>\n",
       "      <td>1</td>\n",
       "    </tr>\n",
       "    <tr>\n",
       "      <th>2</th>\n",
       "      <td>3</td>\n",
       "      <td>1.250000</td>\n",
       "      <td>1.500000</td>\n",
       "      <td>-0.437500</td>\n",
       "      <td>0.250000</td>\n",
       "      <td>1.375000</td>\n",
       "      <td>-0.109375</td>\n",
       "      <td>0.047852</td>\n",
       "      <td>2</td>\n",
       "    </tr>\n",
       "    <tr>\n",
       "      <th>3</th>\n",
       "      <td>4</td>\n",
       "      <td>1.375000</td>\n",
       "      <td>1.500000</td>\n",
       "      <td>-0.109375</td>\n",
       "      <td>0.250000</td>\n",
       "      <td>1.437500</td>\n",
       "      <td>0.066406</td>\n",
       "      <td>-0.007263</td>\n",
       "      <td>3</td>\n",
       "    </tr>\n",
       "    <tr>\n",
       "      <th>4</th>\n",
       "      <td>5</td>\n",
       "      <td>1.375000</td>\n",
       "      <td>1.437500</td>\n",
       "      <td>-0.109375</td>\n",
       "      <td>0.066406</td>\n",
       "      <td>1.406250</td>\n",
       "      <td>-0.022461</td>\n",
       "      <td>0.002457</td>\n",
       "      <td>4</td>\n",
       "    </tr>\n",
       "    <tr>\n",
       "      <th>5</th>\n",
       "      <td>6</td>\n",
       "      <td>1.406250</td>\n",
       "      <td>1.437500</td>\n",
       "      <td>-0.022461</td>\n",
       "      <td>0.066406</td>\n",
       "      <td>1.421875</td>\n",
       "      <td>0.021729</td>\n",
       "      <td>-0.000488</td>\n",
       "      <td>5</td>\n",
       "    </tr>\n",
       "    <tr>\n",
       "      <th>6</th>\n",
       "      <td>7</td>\n",
       "      <td>1.406250</td>\n",
       "      <td>1.421875</td>\n",
       "      <td>-0.022461</td>\n",
       "      <td>0.021729</td>\n",
       "      <td>1.414062</td>\n",
       "      <td>-0.000427</td>\n",
       "      <td>0.000010</td>\n",
       "      <td>6</td>\n",
       "    </tr>\n",
       "    <tr>\n",
       "      <th>7</th>\n",
       "      <td>8</td>\n",
       "      <td>1.414062</td>\n",
       "      <td>1.421875</td>\n",
       "      <td>-0.000427</td>\n",
       "      <td>0.021729</td>\n",
       "      <td>1.417969</td>\n",
       "      <td>0.010635</td>\n",
       "      <td>-0.000005</td>\n",
       "      <td>7</td>\n",
       "    </tr>\n",
       "    <tr>\n",
       "      <th>8</th>\n",
       "      <td>9</td>\n",
       "      <td>1.414062</td>\n",
       "      <td>1.417969</td>\n",
       "      <td>-0.000427</td>\n",
       "      <td>0.010635</td>\n",
       "      <td>1.416016</td>\n",
       "      <td>0.005100</td>\n",
       "      <td>-0.000002</td>\n",
       "      <td>8</td>\n",
       "    </tr>\n",
       "  </tbody>\n",
       "</table>\n",
       "</div>"
      ],
      "text/plain": [
       "   SNO        XL        XU     F(XL)     F(XU)        XM     F(XM)  \\\n",
       "0    1  1.000000  2.000000 -1.000000  2.000000  1.500000  0.250000   \n",
       "1    2  1.000000  1.500000 -1.000000  0.250000  1.250000 -0.437500   \n",
       "2    3  1.250000  1.500000 -0.437500  0.250000  1.375000 -0.109375   \n",
       "3    4  1.375000  1.500000 -0.109375  0.250000  1.437500  0.066406   \n",
       "4    5  1.375000  1.437500 -0.109375  0.066406  1.406250 -0.022461   \n",
       "5    6  1.406250  1.437500 -0.022461  0.066406  1.421875  0.021729   \n",
       "6    7  1.406250  1.421875 -0.022461  0.021729  1.414062 -0.000427   \n",
       "7    8  1.414062  1.421875 -0.000427  0.021729  1.417969  0.010635   \n",
       "8    9  1.414062  1.417969 -0.000427  0.010635  1.416016  0.005100   \n",
       "\n",
       "   F(XL).F(XM)  EG  \n",
       "0    -0.250000   0  \n",
       "1     0.437500   1  \n",
       "2     0.047852   2  \n",
       "3    -0.007263   3  \n",
       "4     0.002457   4  \n",
       "5    -0.000488   5  \n",
       "6     0.000010   6  \n",
       "7    -0.000005   7  \n",
       "8    -0.000002   8  "
      ]
     },
     "execution_count": 77,
     "metadata": {},
     "output_type": "execute_result"
    }
   ],
   "source": [
    "r.to_excel('file2.xls')\n",
    "r"
   ]
  },
  {
   "cell_type": "code",
   "execution_count": null,
   "metadata": {},
   "outputs": [],
   "source": []
  }
 ],
 "metadata": {
  "kernelspec": {
   "display_name": "Python 3",
   "language": "python",
   "name": "python3"
  },
  "language_info": {
   "codemirror_mode": {
    "name": "ipython",
    "version": 3
   },
   "file_extension": ".py",
   "mimetype": "text/x-python",
   "name": "python",
   "nbconvert_exporter": "python",
   "pygments_lexer": "ipython3",
   "version": "3.7.3"
  }
 },
 "nbformat": 4,
 "nbformat_minor": 2
}
