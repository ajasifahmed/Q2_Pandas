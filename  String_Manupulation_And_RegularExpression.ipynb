{
 "cells": [
  {
   "cell_type": "markdown",
   "metadata": {},
   "source": [
    "# String manupulation"
   ]
  },
  {
   "cell_type": "code",
   "execution_count": 87,
   "metadata": {},
   "outputs": [],
   "source": [
    "import pandas as pd\n",
    "import numpy as np\n"
   ]
  },
  {
   "cell_type": "code",
   "execution_count": 88,
   "metadata": {},
   "outputs": [
    {
     "name": "stdout",
     "output_type": "stream",
     "text": [
      "['Toy', '', 'Story', '', '(1995)Animation', 'Childrens', '', '', '', '', '', 'Comedy']\n"
     ]
    }
   ],
   "source": [
    "#split===>from which seperator? \n",
    "\n",
    "text='Toy  Story  (1995)Animation Childrens      Comedy'\n",
    "print(text.split(' '))"
   ]
  },
  {
   "cell_type": "code",
   "execution_count": 89,
   "metadata": {},
   "outputs": [
    {
     "name": "stdout",
     "output_type": "stream",
     "text": [
      "['Toy', '', 'Story', '', '(1995)Animation', 'Childrens', '', '', '', '', '', 'Comedy']\n"
     ]
    }
   ],
   "source": [
    "pieces = [x.strip() for x in text.split(' ')]\n",
    "print(pieces)"
   ]
  },
  {
   "cell_type": "code",
   "execution_count": 90,
   "metadata": {},
   "outputs": [
    {
     "name": "stdout",
     "output_type": "stream",
     "text": [
      "['Toy', '', 'Story', '', '(1995)Animation', 'Childrens', '', '', '', '', '', 'Comedy']\n"
     ]
    }
   ],
   "source": [
    "print(text.split(' '))"
   ]
  },
  {
   "cell_type": "code",
   "execution_count": 91,
   "metadata": {},
   "outputs": [
    {
     "name": "stdout",
     "output_type": "stream",
     "text": [
      "['Toy', 'Story', '(1995)Animation', 'Childrens', 'Comedy', 'and', 'tuber', 'fejrfberfje', 'ejfe', 'bfjke', 'fje', 'fejf']\n"
     ]
    }
   ],
   "source": [
    "text2='Toy  Story  (1995)Animation Childrens      Comedy and tuber fejrfberfje ejfe bfjke fje fejf '\n",
    "o=[x.strip() for x in text2.split()]\n",
    "print(o)"
   ]
  },
  {
   "cell_type": "code",
   "execution_count": 92,
   "metadata": {},
   "outputs": [
    {
     "name": "stdout",
     "output_type": "stream",
     "text": [
      "Toy Story (1995)Animation Childrens Comedy and tuber fejrfberfje ejfe bfjke fje fejf\n"
     ]
    }
   ],
   "source": [
    "o=' '.join(o)\n",
    "print(o)"
   ]
  },
  {
   "cell_type": "code",
   "execution_count": 1,
   "metadata": {},
   "outputs": [
    {
     "data": {
      "text/plain": [
       "1"
      ]
     },
     "execution_count": 1,
     "metadata": {},
     "output_type": "execute_result"
    }
   ],
   "source": [
    "text3='a,f,f, mdb'\n",
    "text3.index(',')"
   ]
  },
  {
   "cell_type": "code",
   "execution_count": 2,
   "metadata": {},
   "outputs": [
    {
     "data": {
      "text/plain": [
       "1"
      ]
     },
     "execution_count": 2,
     "metadata": {},
     "output_type": "execute_result"
    }
   ],
   "source": [
    "text3.find(',')# Note the difference between find and index is that index raises an exception if the\n",
    "# string isn’t found"
   ]
  },
  {
   "cell_type": "code",
   "execution_count": 3,
   "metadata": {},
   "outputs": [
    {
     "data": {
      "text/plain": [
       "'a||f||f|| mdb'"
      ]
     },
     "execution_count": 3,
     "metadata": {},
     "output_type": "execute_result"
    }
   ],
   "source": [
    "text3.replace(',','||')"
   ]
  },
  {
   "cell_type": "code",
   "execution_count": 4,
   "metadata": {},
   "outputs": [],
   "source": [
    "#text3.count(',')#('f')"
   ]
  },
  {
   "cell_type": "code",
   "execution_count": 5,
   "metadata": {},
   "outputs": [
    {
     "data": {
      "text/plain": [
       "True"
      ]
     },
     "execution_count": 5,
     "metadata": {},
     "output_type": "execute_result"
    }
   ],
   "source": [
    "text3.endswith('b')\n",
    "#text3.startswith('w')"
   ]
  },
  {
   "cell_type": "code",
   "execution_count": 7,
   "metadata": {},
   "outputs": [
    {
     "data": {
      "text/plain": [
       "2"
      ]
     },
     "execution_count": 7,
     "metadata": {},
     "output_type": "execute_result"
    }
   ],
   "source": [
    "print(text3.rfind('b'))\n",
    "print(text3.find('f'))"
   ]
  },
  {
   "cell_type": "code",
   "execution_count": 1,
   "metadata": {},
   "outputs": [],
   "source": [
    "import re"
   ]
  },
  {
   "cell_type": "code",
   "execution_count": 2,
   "metadata": {},
   "outputs": [
    {
     "data": {
      "text/plain": [
       "['foo', 'bar', 'baz', 'qux']"
      ]
     },
     "execution_count": 2,
     "metadata": {},
     "output_type": "execute_result"
    }
   ],
   "source": [
    "text='foo bar\\t baz \\tqux'\n",
    "regex=re.compile('\\s+')\n",
    "regex.split(text)\n",
    "#re.split('\\s+',text)"
   ]
  },
  {
   "cell_type": "code",
   "execution_count": 72,
   "metadata": {},
   "outputs": [
    {
     "data": {
      "text/plain": [
       "['dave@google.com', 'steve@gmail.com', 'rob@gmail.com', 'ryan@yahoo.com']"
      ]
     },
     "metadata": {},
     "output_type": "display_data"
    }
   ],
   "source": [
    "#\n",
    "text = \"\"\"Dave dave@google.com \n",
    "Dave Dave%@Gog54l.e-er.SOM\n",
    "daeis MMUz123_@MGAIL.COM\n",
    "Steve steve@gmail.com\n",
    "Rob rob@gmail.com\n",
    "Ryan ryan@yahoo.com\n",
    "\"\"\"\n",
    "pattern = r'[A-Z0-9]+@[A-Z0-9.-]+\\.[A-Z]{2,4}'\n",
    "regex = re.compile(pattern, flags=re.IGNORECASE)#only upper one will print\n",
    "# re.IGNORECASE makes the regex case-insensitive\n",
    "a=regex.findall(text)\n",
    "display(a)"
   ]
  },
  {
   "cell_type": "code",
   "execution_count": 54,
   "metadata": {},
   "outputs": [
    {
     "name": "stdout",
     "output_type": "stream",
     "text": [
      "Dave dave@google.com \n",
      "Dave Dave%@Gog54l.e-er.SOM\n",
      "daeis MMUz123_@MGAIL.COM\n",
      "Steve steve@gmail.com\n",
      "Rob rob@gmail.com\n",
      "Ryan ryan@yahoo.com\n",
      "\n"
     ]
    }
   ],
   "source": [
    "print(text)"
   ]
  },
  {
   "cell_type": "code",
   "execution_count": 27,
   "metadata": {},
   "outputs": [
    {
     "name": "stdout",
     "output_type": "stream",
     "text": [
      "Dave is the user \n",
      "Dave is the user\n",
      "daeis is the user\n",
      "Steve is the user\n",
      "Rob is the user\n",
      "Ryan is the user\n",
      "\n"
     ]
    }
   ],
   "source": [
    "print(regex.sub('is the user',text))"
   ]
  },
  {
   "cell_type": "code",
   "execution_count": 3,
   "metadata": {},
   "outputs": [
    {
     "data": {
      "text/plain": [
       "['42401-6755778-5', '42401-6755678-4', '42401-6755718-1']"
      ]
     },
     "execution_count": 3,
     "metadata": {},
     "output_type": "execute_result"
    }
   ],
   "source": [
    "n='''\n",
    "Asif CNIC 42401-6755778-5\n",
    "AS CNIC 42401-6755678-4\n",
    "MY 42401-6755718-1\n",
    "'''\n",
    "pattern=r'[0-9]{5}\\-[0-9]{7}\\-[0-9]{1}'\n",
    "\n",
    "regex=re.compile(pattern)\n",
    "regex.findall(n)"
   ]
  },
  {
   "cell_type": "code",
   "execution_count": 6,
   "metadata": {},
   "outputs": [
    {
     "name": "stdout",
     "output_type": "stream",
     "text": [
      "\n",
      "Asif CNIC ------\n",
      "AS CNIC ------\n",
      "MY ------\n",
      "\n"
     ]
    }
   ],
   "source": [
    "print(regex.sub('------',n))"
   ]
  },
  {
   "cell_type": "code",
   "execution_count": 55,
   "metadata": {},
   "outputs": [],
   "source": [
    "              #r'[A-Z0-9._%+-]+@[A-Z0-9.-]+\\.[A-Z]{2,4}'\n",
    "pattern = r'([A-Z0-9._%+-]+)@([A-Z0-9.-]+)\\.([A-Z]{2,4})'\n",
    "regex = re.compile(pattern, flags=re.IGNORECASE)"
   ]
  },
  {
   "cell_type": "code",
   "execution_count": 59,
   "metadata": {},
   "outputs": [
    {
     "data": {
      "text/plain": [
       "('wesm32', 'google', 'com')"
      ]
     },
     "execution_count": 59,
     "metadata": {},
     "output_type": "execute_result"
    }
   ],
   "source": [
    "m=regex.match('wesm32@google.com')\n",
    "m.groups()"
   ]
  },
  {
   "cell_type": "code",
   "execution_count": 68,
   "metadata": {},
   "outputs": [
    {
     "data": {
      "text/html": [
       "<div>\n",
       "<style scoped>\n",
       "    .dataframe tbody tr th:only-of-type {\n",
       "        vertical-align: middle;\n",
       "    }\n",
       "\n",
       "    .dataframe tbody tr th {\n",
       "        vertical-align: top;\n",
       "    }\n",
       "\n",
       "    .dataframe thead th {\n",
       "        text-align: right;\n",
       "    }\n",
       "</style>\n",
       "<table border=\"1\" class=\"dataframe\">\n",
       "  <thead>\n",
       "    <tr style=\"text-align: right;\">\n",
       "      <th></th>\n",
       "      <th>0</th>\n",
       "      <th>1</th>\n",
       "      <th>2</th>\n",
       "    </tr>\n",
       "  </thead>\n",
       "  <tbody>\n",
       "    <tr>\n",
       "      <th>0</th>\n",
       "      <td>dave</td>\n",
       "      <td>google</td>\n",
       "      <td>com</td>\n",
       "    </tr>\n",
       "    <tr>\n",
       "      <th>1</th>\n",
       "      <td>Dave%</td>\n",
       "      <td>Gog54l.e-er</td>\n",
       "      <td>SOM</td>\n",
       "    </tr>\n",
       "    <tr>\n",
       "      <th>2</th>\n",
       "      <td>MMUz123_</td>\n",
       "      <td>MGAIL</td>\n",
       "      <td>COM</td>\n",
       "    </tr>\n",
       "    <tr>\n",
       "      <th>3</th>\n",
       "      <td>steve</td>\n",
       "      <td>gmail</td>\n",
       "      <td>com</td>\n",
       "    </tr>\n",
       "    <tr>\n",
       "      <th>4</th>\n",
       "      <td>rob</td>\n",
       "      <td>gmail</td>\n",
       "      <td>com</td>\n",
       "    </tr>\n",
       "    <tr>\n",
       "      <th>5</th>\n",
       "      <td>ryan</td>\n",
       "      <td>yahoo</td>\n",
       "      <td>com</td>\n",
       "    </tr>\n",
       "  </tbody>\n",
       "</table>\n",
       "</div>"
      ],
      "text/plain": [
       "          0            1    2\n",
       "0      dave       google  com\n",
       "1     Dave%  Gog54l.e-er  SOM\n",
       "2  MMUz123_        MGAIL  COM\n",
       "3     steve        gmail  com\n",
       "4       rob        gmail  com\n",
       "5      ryan        yahoo  com"
      ]
     },
     "execution_count": 68,
     "metadata": {},
     "output_type": "execute_result"
    }
   ],
   "source": [
    "p=regex.findall(text)\n",
    "pd.DataFrame(p)"
   ]
  },
  {
   "cell_type": "code",
   "execution_count": 171,
   "metadata": {},
   "outputs": [
    {
     "name": "stdout",
     "output_type": "stream",
     "text": [
      "Dave USERNAME: dave, DOMAIN: google, SUFFIX: com\n",
      "Dave USERNAME: Dave%, DOMAIN: Gog54l.e-er, SUFFIX: SOM\n",
      "daeis USERNAME: MMUz123_, DOMAIN: MGAIL, SUFFIX: COM\n",
      "Steve USERNAME: steve, DOMAIN: gmail, SUFFIX: com\n",
      "Rob USERNAME: rob, DOMAIN: gmail, SUFFIX: com\n",
      "Ryan USERNAME: ryan, DOMAIN: yahoo, SUFFIX: com\n",
      "\n"
     ]
    }
   ],
   "source": [
    "print(regex.sub(r'USERNAME: \\1, DOMAIN: \\2, SUFFIX: \\3',text))"
   ]
  },
  {
   "cell_type": "code",
   "execution_count": 167,
   "metadata": {},
   "outputs": [
    {
     "name": "stdout",
     "output_type": "stream",
     "text": [
      "<re.Match object; span=(5, 20), match='dave@google.com'>\n",
      "<re.Match object; span=(26, 47), match='Dave%@Gog54l.e-er.SOM'>\n",
      "<re.Match object; span=(54, 72), match='MMUz123_@MGAIL.COM'>\n",
      "<re.Match object; span=(79, 94), match='steve@gmail.com'>\n",
      "<re.Match object; span=(99, 112), match='rob@gmail.com'>\n",
      "<re.Match object; span=(118, 132), match='ryan@yahoo.com'>\n"
     ]
    }
   ],
   "source": [
    "a=regex.finditer(text)\n",
    "for i in a:\n",
    "    print(i)"
   ]
  },
  {
   "cell_type": "code",
   "execution_count": 173,
   "metadata": {},
   "outputs": [
    {
     "name": "stdout",
     "output_type": "stream",
     "text": [
      "Dave DOMAIN: google,USERNAME: dave, SUFFIX: com\n",
      "Dave DOMAIN: Gog54l.e-er,USERNAME: Dave%, SUFFIX: SOM\n",
      "daeis DOMAIN: MGAIL,USERNAME: MMUz123_, SUFFIX: COM\n",
      "Steve DOMAIN: gmail,USERNAME: steve, SUFFIX: com\n",
      "Rob DOMAIN: gmail,USERNAME: rob, SUFFIX: com\n",
      "Ryan DOMAIN: yahoo,USERNAME: ryan, SUFFIX: com\n",
      "\n"
     ]
    }
   ],
   "source": [
    "print(regex.sub(r'DOMAIN: \\2,USERNAME: \\1, SUFFIX: \\3',text))"
   ]
  },
  {
   "cell_type": "code",
   "execution_count": 63,
   "metadata": {},
   "outputs": [
    {
     "data": {
      "text/plain": [
       "Dave     dave@google.com\n",
       "Steve    steve@gmail.com\n",
       "Rob        rob@gmail.com\n",
       "Wes                  NaN\n",
       "dtype: object"
      ]
     },
     "execution_count": 63,
     "metadata": {},
     "output_type": "execute_result"
    }
   ],
   "source": [
    "import pandas as pd\n",
    "import numpy as np\n",
    "data = {'Dave': 'dave@google.com', 'Steve': 'steve@gmail.com','Rob': 'rob@gmail.com', 'Wes': np.nan}\n",
    "data=pd.Series(data)\n",
    "data"
   ]
  },
  {
   "cell_type": "code",
   "execution_count": 31,
   "metadata": {},
   "outputs": [
    {
     "data": {
      "text/plain": [
       "'([A-Z0-9._%+-]+)@([A-Z0-9.-]+)\\\\.([A-Z]{2,4})'"
      ]
     },
     "execution_count": 31,
     "metadata": {},
     "output_type": "execute_result"
    }
   ],
   "source": [
    "pattern"
   ]
  },
  {
   "cell_type": "code",
   "execution_count": 32,
   "metadata": {},
   "outputs": [
    {
     "data": {
      "text/plain": [
       "Dave     False\n",
       "Steve     True\n",
       "Rob       True\n",
       "Wes        NaN\n",
       "dtype: object"
      ]
     },
     "execution_count": 32,
     "metadata": {},
     "output_type": "execute_result"
    }
   ],
   "source": [
    "data.str.contains('gmail')"
   ]
  },
  {
   "cell_type": "code",
   "execution_count": 52,
   "metadata": {},
   "outputs": [
    {
     "data": {
      "text/plain": [
       "Dave     [dave@google.com]\n",
       "Steve    [steve@gmail.com]\n",
       "Rob        [rob@gmail.com]\n",
       "Wes                    NaN\n",
       "dtype: object"
      ]
     },
     "execution_count": 52,
     "metadata": {},
     "output_type": "execute_result"
    }
   ],
   "source": [
    "data.str.findall(pattern,flags=re.IGNORECASE)"
   ]
  },
  {
   "cell_type": "code",
   "execution_count": 34,
   "metadata": {},
   "outputs": [
    {
     "data": {
      "text/plain": [
       "Dave     True\n",
       "Steve    True\n",
       "Rob      True\n",
       "Wes       NaN\n",
       "dtype: object"
      ]
     },
     "execution_count": 34,
     "metadata": {},
     "output_type": "execute_result"
    }
   ],
   "source": [
    "data.str.match(pattern,flags=re.IGNORECASE)\n"
   ]
  },
  {
   "cell_type": "code",
   "execution_count": 211,
   "metadata": {},
   "outputs": [
    {
     "name": "stdout",
     "output_type": "stream",
     "text": [
      "Dave     dave@google.com\n",
      "Steve    steve@gmail.com\n",
      "Rob        rob@gmail.com\n",
      "Wes                  NaN\n",
      "dtype: object\n"
     ]
    },
    {
     "data": {
      "text/plain": [
       "Dave     dav\n",
       "Steve    ste\n",
       "Rob      rob\n",
       "Wes      NaN\n",
       "dtype: object"
      ]
     },
     "execution_count": 211,
     "metadata": {},
     "output_type": "execute_result"
    }
   ],
   "source": [
    "print(data)\n",
    "data.str[:3]"
   ]
  },
  {
   "cell_type": "code",
   "execution_count": null,
   "metadata": {},
   "outputs": [],
   "source": [
    "#Project: code to extract phone numbers or e-mails from the given file and create two list (mail and phone number) \n",
    "# helping refrrence: Automate the Boring Stuff Using Python"
   ]
  },
  {
   "cell_type": "code",
   "execution_count": 225,
   "metadata": {},
   "outputs": [
    {
     "data": {
      "text/plain": [
       "['0341-8988676', '0305-2285272']"
      ]
     },
     "execution_count": 225,
     "metadata": {},
     "output_type": "execute_result"
    }
   ],
   "source": [
    "text='this is my phone number 0341-8988676 and email is asifdecem2@gmail.com and another contact number is 0305-2285272 and eamil is asifaahh112233@gmail.com'\n",
    "p1=r'03[0-9]{2}\\-[0-9]{7}'\n",
    "\n",
    "#p2=r'[a-z0-9]'\n",
    "regex1=re.compile(p1)\n",
    "regex1.findall(text)"
   ]
  },
  {
   "cell_type": "code",
   "execution_count": 43,
   "metadata": {},
   "outputs": [
    {
     "data": {
      "text/plain": [
       "'0341-8988676'"
      ]
     },
     "execution_count": 43,
     "metadata": {},
     "output_type": "execute_result"
    }
   ],
   "source": [
    "phoneNumRegex = re.compile(r'03[0-9]{2}\\-[0-9]{7}')\n",
    "mo = phoneNumRegex.search('My number is 0341-8988676 a0341-8988676 mber ')\n",
    "# mo.groups(){if we use this the o/p will be the empry string so use group}\n",
    "mo.group()"
   ]
  },
  {
   "cell_type": "code",
   "execution_count": 251,
   "metadata": {},
   "outputs": [
    {
     "data": {
      "text/plain": [
       "'8988676'"
      ]
     },
     "execution_count": 251,
     "metadata": {},
     "output_type": "execute_result"
    }
   ],
   "source": [
    "phoneNumRegex = re.compile(r'(03[0-9]{2})\\-([0-9]{7})')\n",
    "mo = phoneNumRegex.search('My number is 0341-8988676 a ')\n",
    "mo.group(2)#mo.group(1 or 0)"
   ]
  },
  {
   "cell_type": "code",
   "execution_count": 242,
   "metadata": {},
   "outputs": [
    {
     "data": {
      "text/plain": [
       "('0341', '8988676')"
      ]
     },
     "execution_count": 242,
     "metadata": {},
     "output_type": "execute_result"
    }
   ],
   "source": [
    "mo.groups()"
   ]
  },
  {
   "cell_type": "code",
   "execution_count": 249,
   "metadata": {},
   "outputs": [
    {
     "name": "stdout",
     "output_type": "stream",
     "text": [
      "the company code is 0341\n",
      "And main number is 8988676\n"
     ]
    }
   ],
   "source": [
    "company_code,main_number=mo.groups()\n",
    "print(f'the company code is {company_code}\\nAnd main number is {main_number}')"
   ]
  },
  {
   "cell_type": "code",
   "execution_count": 264,
   "metadata": {},
   "outputs": [],
   "source": [
    "#Project: code to extract phone numbers or e-mails from the given file and create two list (mail and phone number) \n",
    "# helping refrrence: Automate the Boring Stuff Using Python\n",
    "text='''\n",
    "800-420-7240 \n",
    "415-863-9900 \n",
    "415-863-9950 \n",
    "info@nostarch.com \n",
    "media@nostarch.com\n",
    "academic@nostarch.com \n",
    "help@nostarch.com\n",
    "'''"
   ]
  },
  {
   "cell_type": "code",
   "execution_count": 273,
   "metadata": {},
   "outputs": [],
   "source": [
    "p1=r'[0-9]{3}\\-[0-9]{3}-[0-9]{4}'\n",
    "p2=r'[A-Z0-9._%+-]+@[A-Z0-9.-]+\\.[A-Z]{2,4}'\n",
    "reg1=re.compile(p1)\n",
    "reg2=re.compile(p2,flags=re.IGNORECASE)\n",
    "a=reg1.findall(text)\n",
    "b=reg2.findall(text)"
   ]
  },
  {
   "cell_type": "code",
   "execution_count": 274,
   "metadata": {},
   "outputs": [
    {
     "data": {
      "text/plain": [
       "(['info@nostarch.com',\n",
       "  'media@nostarch.com',\n",
       "  'academic@nostarch.com',\n",
       "  'help@nostarch.com'],\n",
       " ['800-420-7240', '415-863-9900', '415-863-9950'])"
      ]
     },
     "execution_count": 274,
     "metadata": {},
     "output_type": "execute_result"
    }
   ],
   "source": [
    "b,a"
   ]
  },
  {
   "cell_type": "code",
   "execution_count": null,
   "metadata": {},
   "outputs": [],
   "source": []
  }
 ],
 "metadata": {
  "kernelspec": {
   "display_name": "Python 3",
   "language": "python",
   "name": "python3"
  },
  "language_info": {
   "codemirror_mode": {
    "name": "ipython",
    "version": 3
   },
   "file_extension": ".py",
   "mimetype": "text/x-python",
   "name": "python",
   "nbconvert_exporter": "python",
   "pygments_lexer": "ipython3",
   "version": "3.7.3"
  }
 },
 "nbformat": 4,
 "nbformat_minor": 2
}
